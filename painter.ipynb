{
 "cells": [
  {
   "cell_type": "markdown",
   "metadata": {},
   "source": [
    "##### Importing "
   ]
  },
  {
   "cell_type": "code",
   "execution_count": 1,
   "metadata": {},
   "outputs": [],
   "source": [
    "import cv2\n",
    "import numpy as np\n",
    "import mediapipe as mp"
   ]
  },
  {
   "cell_type": "markdown",
   "metadata": {},
   "source": [
    "##### Practice"
   ]
  },
  {
   "cell_type": "code",
   "execution_count": null,
   "metadata": {},
   "outputs": [],
   "source": [
    "# img = np.zeros((400,700))"
   ]
  },
  {
   "cell_type": "code",
   "execution_count": null,
   "metadata": {},
   "outputs": [],
   "source": [
    "# data = cv2.line(img,(300,350),(350,300),(255,255,255),2)"
   ]
  },
  {
   "cell_type": "code",
   "execution_count": null,
   "metadata": {},
   "outputs": [],
   "source": [
    "# cv2.imshow(\"Image\",img)\n",
    "# cv2.waitKey(0)\n",
    "# cv2.destroyAllWindows()"
   ]
  },
  {
   "cell_type": "markdown",
   "metadata": {},
   "source": [
    "##### Main Code"
   ]
  },
  {
   "cell_type": "markdown",
   "metadata": {},
   "source": [
    "Video Frame size uisng set()</br>\n",
    "</br>\n",
    "3 (or) cv2.CAP_PROP_FRAME_WIDTH\t  =>   Sets the width of the video frame.</br>\n",
    "4 (or) cv2.CAP_PROP_FRAME_HEIGHT  =>   Sets the height of the video frame.</br>\n",
    "5 (or) cv2.CAP_PROP_FPS\t          =>   Sets the frames per second (FPS) of the video.</br>"
   ]
  },
  {
   "cell_type": "code",
   "execution_count": 2,
   "metadata": {},
   "outputs": [],
   "source": [
    "mp_hands = mp.solutions.hands \n",
    "mp_drawing = mp.solutions.drawing_utils\n",
    "hands = mp_hands.Hands(max_num_hands=1,min_detection_confidence=0.7,min_tracking_confidence=0.7)"
   ]
  },
  {
   "cell_type": "code",
   "execution_count": 3,
   "metadata": {},
   "outputs": [],
   "source": [
    "video = cv2.VideoCapture(0)\n",
    "\n",
    "frame_width = 640\n",
    "frame_height = 480\n",
    "video.set(3,frame_width)\n",
    "video.set(4,frame_height)\n",
    "canvas = np.zeros((frame_height,frame_width,3),dtype=np.uint8)\n",
    "\n",
    "prev_x = None\n",
    "prev_y = None\n",
    "\n",
    "fontColor = (255,255,255)\n",
    "\n",
    "while True:\n",
    "    ret,frame = video.read()\n",
    "    if not ret:\n",
    "        break\n",
    "    \n",
    "    frame = cv2.flip(frame,1)\n",
    "    \n",
    "    #Convert BGR to RGB\n",
    "    image = cv2.cvtColor(frame,cv2.COLOR_BGR2RGB)\n",
    "    \n",
    "    #Finding hand landmarks\n",
    "    result = hands.process(image)\n",
    "    handLandmarks = result.multi_hand_landmarks\n",
    "    \n",
    "    #Convert BGR to RGB\n",
    "    image = cv2.cvtColor(image,cv2.COLOR_RGB2BGR)\n",
    "    \n",
    "    cv2.rectangle(image,(20,10),(152,90),(255,255,255),-1)\n",
    "    cv2.rectangle(image,(172,10),(304,90),(255,0,0),-1)\n",
    "    cv2.rectangle(image,(324,10),(456,90),(0,255,0),-1)\n",
    "    cv2.rectangle(image,(476,10),(608,90),(0,255,255),-1)\n",
    "    \n",
    "    cv2.rectangle(canvas,(20,10),(152,90),(255,255,255),-1)\n",
    "    cv2.rectangle(canvas,(172,10),(304,90),(255,0,0),-1)\n",
    "    cv2.rectangle(canvas,(324,10),(456,90),(0,255,0),-1)\n",
    "    cv2.rectangle(canvas,(476,10),(608,90),(0,255,255),-1)\n",
    "    \n",
    "    cv2.putText(image,\"Clear\",(46,60),cv2.FONT_HERSHEY_SIMPLEX,1,(0,0,0),3)\n",
    "    cv2.putText(canvas,\"Clear\",(46,60),cv2.FONT_HERSHEY_SIMPLEX,1,(0,0,0),3)\n",
    "    \n",
    "    #Drawing the landmarks in image\n",
    "    if handLandmarks:\n",
    "        for hand_landmark in handLandmarks:\n",
    "            \n",
    "            mp_drawing.draw_landmarks(image,hand_landmark,mp_hands.HAND_CONNECTIONS,\n",
    "                                      mp_drawing.DrawingSpec((255, 0, 0),thickness=2,circle_radius=4),\n",
    "                                      mp_drawing.DrawingSpec((0, 255, 255),thickness=2,circle_radius=4))\n",
    "            \n",
    "            index_tip = hand_landmark.landmark[8]\n",
    "            index_middle = hand_landmark.landmark[6]\n",
    "            index_x = int(index_tip.x*frame_width)\n",
    "            index_y = int(index_tip.y*frame_height)\n",
    "            \n",
    "            middle_finger_tip = hand_landmark.landmark[12]\n",
    "            middle_finger_middle = hand_landmark.landmark[10]\n",
    "            middle_tip_x = int(middle_finger_tip.x*frame_width)\n",
    "            middle_tip_y = int(middle_finger_tip.y*frame_height)\n",
    "            middle_midle_y = int(middle_finger_middle.y*frame_height)\n",
    "            \n",
    "            if index_y < index_middle.y*frame_height and  middle_tip_y < middle_midle_y:\n",
    "                    cv2.line(image,(index_x,index_y-15),(middle_tip_x,index_y-20),(0,0,0),20)\n",
    "                    # canvas = cv2.line(canvas,(prev_x,prev_y),(index_x,index_y),(255,255,0),3)\n",
    "                    if middle_tip_y < 85:\n",
    "                        if middle_tip_x > 20 and middle_tip_x < 152:\n",
    "                            changeShape = canvas[91:,:].shape\n",
    "                            canvas[91:,:] = np.zeros(changeShape,dtype=np.uint8)\n",
    "                        elif middle_tip_x > 172 and middle_tip_x < 304:\n",
    "                            fontColor = (255,0,0)\n",
    "                        elif middle_tip_x > 324 and middle_tip_x < 456:\n",
    "                            fontColor = (0,255,0)\n",
    "                        elif middle_tip_x > 476 and middle_tip_x < 608:\n",
    "                            fontColor = (0,255,255)\n",
    "                        \n",
    "                        prev_x,prev_y = None,None\n",
    "                        \n",
    "            elif index_y < index_middle.y*frame_height:\n",
    "                if index_y > 93:\n",
    "                    if prev_x is None and prev_y is None:\n",
    "                        prev_x,prev_y = index_x,index_y\n",
    "                    else:\n",
    "                        cv2.line(image,(index_x,index_y),(index_x,index_y),(0,0,255),20)\n",
    "                        canvas = cv2.line(canvas,(prev_x,prev_y),(index_x,index_y),fontColor,3)\n",
    "                        prev_x,prev_y = index_x,index_y\n",
    "            else:\n",
    "                prev_x,prev_y = None,None\n",
    "    \n",
    "    # Merge canvas with frame\n",
    "    # image = cv2.addWeighted(image, 0.7, canvas, 0.3, 0)\n",
    "    \n",
    "    cv2.imshow(\"Camera\",image)\n",
    "    cv2.imshow(\"paint\",canvas)\n",
    "    \n",
    "    if cv2.waitKey(1) & 0xFF == ord('q'):\n",
    "        break\n",
    "    \n",
    "video.release()\n",
    "cv2.destroyAllWindows()"
   ]
  }
 ],
 "metadata": {
  "kernelspec": {
   "display_name": "Python 3",
   "language": "python",
   "name": "python3"
  },
  "language_info": {
   "codemirror_mode": {
    "name": "ipython",
    "version": 3
   },
   "file_extension": ".py",
   "mimetype": "text/x-python",
   "name": "python",
   "nbconvert_exporter": "python",
   "pygments_lexer": "ipython3",
   "version": "3.12.0"
  }
 },
 "nbformat": 4,
 "nbformat_minor": 2
}
